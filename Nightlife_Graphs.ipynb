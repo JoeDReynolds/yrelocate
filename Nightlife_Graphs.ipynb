{
 "cells": [
  {
   "cell_type": "code",
   "execution_count": 1,
   "metadata": {},
   "outputs": [
    {
     "name": "stdout",
     "output_type": "stream",
     "text": [
      "Using matplotlib backend: MacOSX\n"
     ]
    }
   ],
   "source": [
    "#Import Dependencies\n",
    "%matplotlib\n",
    "import pandas as pd\n",
    "import matplotlib.pyplot as plt\n",
    "import numpy as np\n",
    "\n",
    "#Load in CSV File of Data\n",
    "\n",
    "nightlife_df = pd.read_csv('data_sources/nightlife_data_combined.csv')\n"
   ]
  },
  {
   "cell_type": "code",
   "execution_count": 5,
   "metadata": {},
   "outputs": [
    {
     "data": {
      "text/plain": [
       "Unnamed: 0               51\n",
       "Zip Code                 51\n",
       "Restaurant Count         51\n",
       "Restaurant Rating        51\n",
       "Bar Count                51\n",
       "Bar Rating               51\n",
       "Club Count               51\n",
       "Club Rating              51\n",
       "Bar/Restaurant Count     51\n",
       "Bar/Restaurant Rating    51\n",
       "Total Nightlife Count    51\n",
       "Combined Rating          51\n",
       "dtype: int64"
      ]
     },
     "execution_count": 5,
     "metadata": {},
     "output_type": "execute_result"
    }
   ],
   "source": [
    "nightlife_df.count()"
   ]
  },
  {
   "cell_type": "code",
   "execution_count": 4,
   "metadata": {},
   "outputs": [],
   "source": [
    "# Build the scatter plots for each city types\n",
    "\n",
    "plt.scatter(nightlife_df['Bar/Restaurant Count'],nightlife_df[\"Bar/Restaurant Rating\"], color = 'LightCoral', edgecolors = 'black',\n",
    "            label = 'Restaurants', alpha = .75, linewidths=1.25)\n",
    "#plt.scatter(nightlife_df['Bar Count'],nightlife_df[\"Bar Rating\"], color = 'LightSkyBlue', edgecolors = 'black',\n",
    "          # label = 'Bars', alpha = .75, linewidths=1.25)\n",
    "#plt.scatter(nightlife_df['Club Count'],nightlife_df[\"Club Rating\"], color = 'Gold', edgecolors = 'black', \n",
    "          #   label = 'Clubs', alpha = .75, linewidths=1.25)\n",
    "\n",
    "# Incorporate the other graph properties\n",
    "\n",
    "plt.title(\"Nightlife Count vs. Average Rating by Zip Code\", fontsize = 'xx-large')\n",
    "plt.ylabel(\"Average Rating\", fontsize = 'x-large')\n",
    "plt.xlabel(\"Count of Nightlife (By Zip Code)\", fontsize = 'x-large')\n",
    "\n",
    "# Create a legend\n",
    "\n",
    "plt.legend(loc = 'lower right', fontsize = 'large', title=\"Nightlife Types\",)\n",
    "\n",
    "# Save Figure\n",
    "\n",
    "plt.grid()\n",
    "plt.show()"
   ]
  },
  {
   "cell_type": "code",
   "execution_count": 6,
   "metadata": {},
   "outputs": [],
   "source": [
    "#Bar Graph\n",
    "\n",
    "plt.bar(nightlife_df['Unnamed: 0']-.3,nightlife_df[\"Restaurant Count\"], width = .3, color='LightCoral', alpha=0.5, align=\"center\")\n",
    "plt.bar(nightlife_df['Unnamed: 0'],nightlife_df[\"Bar Count\"], width = .3, color = 'LightSkyBlue', alpha=0.5, align=\"center\")\n",
    "plt.bar(nightlife_df['Unnamed: 0']+.3,nightlife_df[\"Club Count\"], width = .3, color = 'Gold', alpha=0.5, align=\"center\")\n",
    "\n",
    "#Tick Locations\n",
    "tick_locations = [value for value in nightlife_df['Unnamed: 0']]\n",
    "plt.xticks(tick_locations, nightlife_df['Zip Code'])\n",
    "\n",
    "# Limits\n",
    "plt.xlim(-.75, len(nightlife_df['Unnamed: 0'])-.25)\n",
    "\n",
    "\n",
    "plt.grid()\n",
    "plt.show()"
   ]
  },
  {
   "cell_type": "code",
   "execution_count": null,
   "metadata": {},
   "outputs": [],
   "source": []
  }
 ],
 "metadata": {
  "kernelspec": {
   "display_name": "Python 3",
   "language": "python",
   "name": "python3"
  },
  "language_info": {
   "codemirror_mode": {
    "name": "ipython",
    "version": 3
   },
   "file_extension": ".py",
   "mimetype": "text/x-python",
   "name": "python",
   "nbconvert_exporter": "python",
   "pygments_lexer": "ipython3",
   "version": "3.6.5"
  }
 },
 "nbformat": 4,
 "nbformat_minor": 2
}
